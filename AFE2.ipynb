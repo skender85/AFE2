{
  "nbformat": 4,
  "nbformat_minor": 0,
  "metadata": {
    "colab": {
      "provenance": [],
      "authorship_tag": "ABX9TyPcUVsbTPS4CP7vOR8Yl+Cu",
      "include_colab_link": true
    },
    "kernelspec": {
      "name": "python3",
      "display_name": "Python 3"
    },
    "language_info": {
      "name": "python"
    }
  },
  "cells": [
    {
      "cell_type": "markdown",
      "metadata": {
        "id": "view-in-github",
        "colab_type": "text"
      },
      "source": [
        "<a href=\"https://colab.research.google.com/github/skender85/AFE2/blob/main/AFE2.ipynb\" target=\"_parent\"><img src=\"https://colab.research.google.com/assets/colab-badge.svg\" alt=\"Open In Colab\"/></a>"
      ]
    },
    {
      "cell_type": "code",
      "execution_count": 2,
      "metadata": {
        "colab": {
          "base_uri": "https://localhost:8080/"
        },
        "id": "lP7ye77TOJ6M",
        "outputId": "ed3c9c51-2206-4448-c4d7-6e7cee1146f0"
      },
      "outputs": [
        {
          "output_type": "stream",
          "name": "stdout",
          "text": [
            "Hello, AFE2 freaks and weirdos watching this with no ties to what we do here!\n"
          ]
        }
      ],
      "source": [
        "# hello world\n",
        "\n",
        "print(\"Hello, AFE2 freaks and weirdos watching this with no ties to what we do here!\")"
      ]
    }
  ]
}